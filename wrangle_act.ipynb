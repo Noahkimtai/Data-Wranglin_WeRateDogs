{
 "cells": [
  {
   "cell_type": "markdown",
   "id": "755dae7a",
   "metadata": {},
   "source": [
    "# Table of Contents\n",
    "1. [Data Gathering](#gathering)\n",
    "1. [Data Quality Assesment](#assessment)\n",
    "1. [Data Issues](#issues)\n",
    "1. [Data Cleaning](#cleaning)\n",
    "1. [Storing The Data](#storing_data)\n",
    "1. [Analysing and Visualizing the Data](#analysis)"
   ]
  },
  {
   "cell_type": "code",
   "execution_count": 1,
   "id": "6e394b9e",
   "metadata": {},
   "outputs": [],
   "source": [
    "import numpy as np\n",
    "import pandas as pd\n",
    "import requests\n",
    "import json\n",
    "import tweepy\n",
    "import matplotlib.pyplot as plt\n",
    "import seaborn as sb\n",
    "%matplotlib inline"
   ]
  },
  {
   "cell_type": "markdown",
   "id": "6e9ca828",
   "metadata": {},
   "source": [
    "<a id='gathering'></a>\n",
    "# Data Gathering."
   ]
  },
  {
   "cell_type": "code",
   "execution_count": 5,
   "id": "e5807823",
   "metadata": {},
   "outputs": [],
   "source": [
    "# read the tweet-json copy file and store it in a dataframe\n",
    "tweet_list =[]\n",
    "with open('tweet-json copy', mode='r') as file:\n",
    "    for line in file:\n",
    "        data = json.loads(line)\n",
    "        tweet_list.append(data)\n",
    "# use the list to generate a dataframe for the tweets\n",
    "tweets_df = pd.DataFrame(tweet_list)"
   ]
  },
  {
   "cell_type": "code",
   "execution_count": 6,
   "id": "3c857473",
   "metadata": {},
   "outputs": [],
   "source": [
    "# Select the columnns we will need for our analysis.\n",
    "tweets_df = tweets_df[['id','retweet_count','favorite_count','full_text','source','favorite_count','retweeted']]\n"
   ]
  },
  {
   "cell_type": "code",
   "execution_count": 7,
   "id": "be1efb18",
   "metadata": {},
   "outputs": [],
   "source": [
    "# Read the two other datasets imgprediction.tsv and twitter-archive-enhanced.csv\n",
    "# Both the datasets was provided by udacity\n",
    "twitter_archive = pd.read_csv('twitter-archive-enhanced.csv')"
   ]
  },
  {
   "cell_type": "code",
   "execution_count": 8,
   "id": "1c47a9d5",
   "metadata": {},
   "outputs": [
    {
     "data": {
      "text/plain": [
       "335079"
      ]
     },
     "execution_count": 8,
     "metadata": {},
     "output_type": "execute_result"
    }
   ],
   "source": [
    "# imgprediction datasets is downloaded pragmatically through the provided url using the requests' library .get() function.\n",
    "imgprediction_url = 'https://d17h27t6h515a5.cloudfront.net/topher/2017/August/599fd2ad_image-predictions/image-predictions.tsv'\n",
    "# read the image prediction dataset pragmatically using the request library\n",
    "image_prediction = requests.get(imgprediction_url)\n",
    "# save the response to a file\n",
    "open('imgprediction.tsv',mode='wb').write(image_prediction.content)"
   ]
  },
  {
   "cell_type": "code",
   "execution_count": 9,
   "id": "a2e44cb6",
   "metadata": {},
   "outputs": [],
   "source": [
    "imageprediction = pd.read_csv('imgprediction.tsv', sep='\\t')"
   ]
  },
  {
   "cell_type": "markdown",
   "id": "76b37ade",
   "metadata": {},
   "source": [
    "<a id='assessment'> </a>\n",
    "# Data Assessment"
   ]
  },
  {
   "cell_type": "code",
   "execution_count": 10,
   "id": "c1f14c5f",
   "metadata": {},
   "outputs": [
    {
     "data": {
      "text/html": [
       "<div>\n",
       "<style scoped>\n",
       "    .dataframe tbody tr th:only-of-type {\n",
       "        vertical-align: middle;\n",
       "    }\n",
       "\n",
       "    .dataframe tbody tr th {\n",
       "        vertical-align: top;\n",
       "    }\n",
       "\n",
       "    .dataframe thead th {\n",
       "        text-align: right;\n",
       "    }\n",
       "</style>\n",
       "<table border=\"1\" class=\"dataframe\">\n",
       "  <thead>\n",
       "    <tr style=\"text-align: right;\">\n",
       "      <th></th>\n",
       "      <th>id</th>\n",
       "      <th>retweet_count</th>\n",
       "      <th>favorite_count</th>\n",
       "      <th>full_text</th>\n",
       "      <th>source</th>\n",
       "      <th>favorite_count</th>\n",
       "      <th>retweeted</th>\n",
       "    </tr>\n",
       "  </thead>\n",
       "  <tbody>\n",
       "    <tr>\n",
       "      <th>0</th>\n",
       "      <td>892420643555336193</td>\n",
       "      <td>8853</td>\n",
       "      <td>39467</td>\n",
       "      <td>This is Phineas. He's a mystical boy. Only eve...</td>\n",
       "      <td>&lt;a href=\"http://twitter.com/download/iphone\" r...</td>\n",
       "      <td>39467</td>\n",
       "      <td>False</td>\n",
       "    </tr>\n",
       "    <tr>\n",
       "      <th>1</th>\n",
       "      <td>892177421306343426</td>\n",
       "      <td>6514</td>\n",
       "      <td>33819</td>\n",
       "      <td>This is Tilly. She's just checking pup on you....</td>\n",
       "      <td>&lt;a href=\"http://twitter.com/download/iphone\" r...</td>\n",
       "      <td>33819</td>\n",
       "      <td>False</td>\n",
       "    </tr>\n",
       "    <tr>\n",
       "      <th>2</th>\n",
       "      <td>891815181378084864</td>\n",
       "      <td>4328</td>\n",
       "      <td>25461</td>\n",
       "      <td>This is Archie. He is a rare Norwegian Pouncin...</td>\n",
       "      <td>&lt;a href=\"http://twitter.com/download/iphone\" r...</td>\n",
       "      <td>25461</td>\n",
       "      <td>False</td>\n",
       "    </tr>\n",
       "    <tr>\n",
       "      <th>3</th>\n",
       "      <td>891689557279858688</td>\n",
       "      <td>8964</td>\n",
       "      <td>42908</td>\n",
       "      <td>This is Darla. She commenced a snooze mid meal...</td>\n",
       "      <td>&lt;a href=\"http://twitter.com/download/iphone\" r...</td>\n",
       "      <td>42908</td>\n",
       "      <td>False</td>\n",
       "    </tr>\n",
       "    <tr>\n",
       "      <th>4</th>\n",
       "      <td>891327558926688256</td>\n",
       "      <td>9774</td>\n",
       "      <td>41048</td>\n",
       "      <td>This is Franklin. He would like you to stop ca...</td>\n",
       "      <td>&lt;a href=\"http://twitter.com/download/iphone\" r...</td>\n",
       "      <td>41048</td>\n",
       "      <td>False</td>\n",
       "    </tr>\n",
       "  </tbody>\n",
       "</table>\n",
       "</div>"
      ],
      "text/plain": [
       "                   id  retweet_count  favorite_count  \\\n",
       "0  892420643555336193           8853           39467   \n",
       "1  892177421306343426           6514           33819   \n",
       "2  891815181378084864           4328           25461   \n",
       "3  891689557279858688           8964           42908   \n",
       "4  891327558926688256           9774           41048   \n",
       "\n",
       "                                           full_text  \\\n",
       "0  This is Phineas. He's a mystical boy. Only eve...   \n",
       "1  This is Tilly. She's just checking pup on you....   \n",
       "2  This is Archie. He is a rare Norwegian Pouncin...   \n",
       "3  This is Darla. She commenced a snooze mid meal...   \n",
       "4  This is Franklin. He would like you to stop ca...   \n",
       "\n",
       "                                              source  favorite_count  \\\n",
       "0  <a href=\"http://twitter.com/download/iphone\" r...           39467   \n",
       "1  <a href=\"http://twitter.com/download/iphone\" r...           33819   \n",
       "2  <a href=\"http://twitter.com/download/iphone\" r...           25461   \n",
       "3  <a href=\"http://twitter.com/download/iphone\" r...           42908   \n",
       "4  <a href=\"http://twitter.com/download/iphone\" r...           41048   \n",
       "\n",
       "   retweeted  \n",
       "0      False  \n",
       "1      False  \n",
       "2      False  \n",
       "3      False  \n",
       "4      False  "
      ]
     },
     "execution_count": 10,
     "metadata": {},
     "output_type": "execute_result"
    }
   ],
   "source": [
    "# look at the dataframe created from above.\n",
    "tweets_df.head()"
   ]
  },
  {
   "cell_type": "code",
   "execution_count": 11,
   "id": "2280107d",
   "metadata": {},
   "outputs": [
    {
     "data": {
      "text/html": [
       "<div>\n",
       "<style scoped>\n",
       "    .dataframe tbody tr th:only-of-type {\n",
       "        vertical-align: middle;\n",
       "    }\n",
       "\n",
       "    .dataframe tbody tr th {\n",
       "        vertical-align: top;\n",
       "    }\n",
       "\n",
       "    .dataframe thead th {\n",
       "        text-align: right;\n",
       "    }\n",
       "</style>\n",
       "<table border=\"1\" class=\"dataframe\">\n",
       "  <thead>\n",
       "    <tr style=\"text-align: right;\">\n",
       "      <th></th>\n",
       "      <th>tweet_id</th>\n",
       "      <th>in_reply_to_status_id</th>\n",
       "      <th>in_reply_to_user_id</th>\n",
       "      <th>timestamp</th>\n",
       "      <th>source</th>\n",
       "      <th>text</th>\n",
       "      <th>retweeted_status_id</th>\n",
       "      <th>retweeted_status_user_id</th>\n",
       "      <th>retweeted_status_timestamp</th>\n",
       "      <th>expanded_urls</th>\n",
       "      <th>rating_numerator</th>\n",
       "      <th>rating_denominator</th>\n",
       "      <th>name</th>\n",
       "      <th>doggo</th>\n",
       "      <th>floofer</th>\n",
       "      <th>pupper</th>\n",
       "      <th>puppo</th>\n",
       "    </tr>\n",
       "  </thead>\n",
       "  <tbody>\n",
       "    <tr>\n",
       "      <th>2287</th>\n",
       "      <td>667177989038297088</td>\n",
       "      <td>NaN</td>\n",
       "      <td>NaN</td>\n",
       "      <td>2015-11-19 03:10:02 +0000</td>\n",
       "      <td>&lt;a href=\"http://twitter.com/download/iphone\" r...</td>\n",
       "      <td>This is a Dasani Kingfisher from Maine. His na...</td>\n",
       "      <td>NaN</td>\n",
       "      <td>NaN</td>\n",
       "      <td>NaN</td>\n",
       "      <td>https://twitter.com/dog_rates/status/667177989...</td>\n",
       "      <td>8</td>\n",
       "      <td>10</td>\n",
       "      <td>a</td>\n",
       "      <td>None</td>\n",
       "      <td>None</td>\n",
       "      <td>None</td>\n",
       "      <td>None</td>\n",
       "    </tr>\n",
       "    <tr>\n",
       "      <th>204</th>\n",
       "      <td>852936405516943360</td>\n",
       "      <td>NaN</td>\n",
       "      <td>NaN</td>\n",
       "      <td>2017-04-14 17:27:40 +0000</td>\n",
       "      <td>&lt;a href=\"http://twitter.com/download/iphone\" r...</td>\n",
       "      <td>RT @dog_rates: I usually only share these on F...</td>\n",
       "      <td>8.316501e+17</td>\n",
       "      <td>4.196984e+09</td>\n",
       "      <td>2017-02-14 23:43:18 +0000</td>\n",
       "      <td>http://www.gofundme.com/bluethewhitehusky,http...</td>\n",
       "      <td>13</td>\n",
       "      <td>10</td>\n",
       "      <td>None</td>\n",
       "      <td>None</td>\n",
       "      <td>None</td>\n",
       "      <td>None</td>\n",
       "      <td>None</td>\n",
       "    </tr>\n",
       "    <tr>\n",
       "      <th>1633</th>\n",
       "      <td>684241637099323392</td>\n",
       "      <td>NaN</td>\n",
       "      <td>NaN</td>\n",
       "      <td>2016-01-05 05:14:53 +0000</td>\n",
       "      <td>&lt;a href=\"http://twitter.com/download/iphone\" r...</td>\n",
       "      <td>This is Obi. He got camera shy. 12/10 https://...</td>\n",
       "      <td>NaN</td>\n",
       "      <td>NaN</td>\n",
       "      <td>NaN</td>\n",
       "      <td>https://twitter.com/dog_rates/status/684241637...</td>\n",
       "      <td>12</td>\n",
       "      <td>10</td>\n",
       "      <td>Obi</td>\n",
       "      <td>None</td>\n",
       "      <td>None</td>\n",
       "      <td>None</td>\n",
       "      <td>None</td>\n",
       "    </tr>\n",
       "    <tr>\n",
       "      <th>439</th>\n",
       "      <td>819952236453363712</td>\n",
       "      <td>NaN</td>\n",
       "      <td>NaN</td>\n",
       "      <td>2017-01-13 17:00:21 +0000</td>\n",
       "      <td>&lt;a href=\"http://twitter.com/download/iphone\" r...</td>\n",
       "      <td>This is Oliver. He has dreams of being a servi...</td>\n",
       "      <td>NaN</td>\n",
       "      <td>NaN</td>\n",
       "      <td>NaN</td>\n",
       "      <td>https://www.gofundme.com/servicedogoliver,http...</td>\n",
       "      <td>13</td>\n",
       "      <td>10</td>\n",
       "      <td>Oliver</td>\n",
       "      <td>None</td>\n",
       "      <td>None</td>\n",
       "      <td>None</td>\n",
       "      <td>puppo</td>\n",
       "    </tr>\n",
       "    <tr>\n",
       "      <th>525</th>\n",
       "      <td>809084759137812480</td>\n",
       "      <td>NaN</td>\n",
       "      <td>NaN</td>\n",
       "      <td>2016-12-14 17:16:53 +0000</td>\n",
       "      <td>&lt;a href=\"http://twitter.com/download/iphone\" r...</td>\n",
       "      <td>This is Wallace. You said you brushed your tee...</td>\n",
       "      <td>NaN</td>\n",
       "      <td>NaN</td>\n",
       "      <td>NaN</td>\n",
       "      <td>https://twitter.com/dog_rates/status/809084759...</td>\n",
       "      <td>11</td>\n",
       "      <td>10</td>\n",
       "      <td>Wallace</td>\n",
       "      <td>None</td>\n",
       "      <td>None</td>\n",
       "      <td>None</td>\n",
       "      <td>None</td>\n",
       "    </tr>\n",
       "  </tbody>\n",
       "</table>\n",
       "</div>"
      ],
      "text/plain": [
       "                tweet_id  in_reply_to_status_id  in_reply_to_user_id  \\\n",
       "2287  667177989038297088                    NaN                  NaN   \n",
       "204   852936405516943360                    NaN                  NaN   \n",
       "1633  684241637099323392                    NaN                  NaN   \n",
       "439   819952236453363712                    NaN                  NaN   \n",
       "525   809084759137812480                    NaN                  NaN   \n",
       "\n",
       "                      timestamp  \\\n",
       "2287  2015-11-19 03:10:02 +0000   \n",
       "204   2017-04-14 17:27:40 +0000   \n",
       "1633  2016-01-05 05:14:53 +0000   \n",
       "439   2017-01-13 17:00:21 +0000   \n",
       "525   2016-12-14 17:16:53 +0000   \n",
       "\n",
       "                                                 source  \\\n",
       "2287  <a href=\"http://twitter.com/download/iphone\" r...   \n",
       "204   <a href=\"http://twitter.com/download/iphone\" r...   \n",
       "1633  <a href=\"http://twitter.com/download/iphone\" r...   \n",
       "439   <a href=\"http://twitter.com/download/iphone\" r...   \n",
       "525   <a href=\"http://twitter.com/download/iphone\" r...   \n",
       "\n",
       "                                                   text  retweeted_status_id  \\\n",
       "2287  This is a Dasani Kingfisher from Maine. His na...                  NaN   \n",
       "204   RT @dog_rates: I usually only share these on F...         8.316501e+17   \n",
       "1633  This is Obi. He got camera shy. 12/10 https://...                  NaN   \n",
       "439   This is Oliver. He has dreams of being a servi...                  NaN   \n",
       "525   This is Wallace. You said you brushed your tee...                  NaN   \n",
       "\n",
       "      retweeted_status_user_id retweeted_status_timestamp  \\\n",
       "2287                       NaN                        NaN   \n",
       "204               4.196984e+09  2017-02-14 23:43:18 +0000   \n",
       "1633                       NaN                        NaN   \n",
       "439                        NaN                        NaN   \n",
       "525                        NaN                        NaN   \n",
       "\n",
       "                                          expanded_urls  rating_numerator  \\\n",
       "2287  https://twitter.com/dog_rates/status/667177989...                 8   \n",
       "204   http://www.gofundme.com/bluethewhitehusky,http...                13   \n",
       "1633  https://twitter.com/dog_rates/status/684241637...                12   \n",
       "439   https://www.gofundme.com/servicedogoliver,http...                13   \n",
       "525   https://twitter.com/dog_rates/status/809084759...                11   \n",
       "\n",
       "      rating_denominator     name doggo floofer pupper  puppo  \n",
       "2287                  10        a  None    None   None   None  \n",
       "204                   10     None  None    None   None   None  \n",
       "1633                  10      Obi  None    None   None   None  \n",
       "439                   10   Oliver  None    None   None  puppo  \n",
       "525                   10  Wallace  None    None   None   None  "
      ]
     },
     "execution_count": 11,
     "metadata": {},
     "output_type": "execute_result"
    }
   ],
   "source": [
    "twitter_archive.sample(5)"
   ]
  },
  {
   "cell_type": "code",
   "execution_count": 12,
   "id": "82f81429",
   "metadata": {},
   "outputs": [
    {
     "data": {
      "text/html": [
       "<div>\n",
       "<style scoped>\n",
       "    .dataframe tbody tr th:only-of-type {\n",
       "        vertical-align: middle;\n",
       "    }\n",
       "\n",
       "    .dataframe tbody tr th {\n",
       "        vertical-align: top;\n",
       "    }\n",
       "\n",
       "    .dataframe thead th {\n",
       "        text-align: right;\n",
       "    }\n",
       "</style>\n",
       "<table border=\"1\" class=\"dataframe\">\n",
       "  <thead>\n",
       "    <tr style=\"text-align: right;\">\n",
       "      <th></th>\n",
       "      <th>tweet_id</th>\n",
       "      <th>jpg_url</th>\n",
       "      <th>img_num</th>\n",
       "      <th>p1</th>\n",
       "      <th>p1_conf</th>\n",
       "      <th>p1_dog</th>\n",
       "      <th>p2</th>\n",
       "      <th>p2_conf</th>\n",
       "      <th>p2_dog</th>\n",
       "      <th>p3</th>\n",
       "      <th>p3_conf</th>\n",
       "      <th>p3_dog</th>\n",
       "    </tr>\n",
       "  </thead>\n",
       "  <tbody>\n",
       "    <tr>\n",
       "      <th>0</th>\n",
       "      <td>666020888022790149</td>\n",
       "      <td>https://pbs.twimg.com/media/CT4udn0WwAA0aMy.jpg</td>\n",
       "      <td>1</td>\n",
       "      <td>Welsh_springer_spaniel</td>\n",
       "      <td>0.465074</td>\n",
       "      <td>True</td>\n",
       "      <td>collie</td>\n",
       "      <td>0.156665</td>\n",
       "      <td>True</td>\n",
       "      <td>Shetland_sheepdog</td>\n",
       "      <td>0.061428</td>\n",
       "      <td>True</td>\n",
       "    </tr>\n",
       "    <tr>\n",
       "      <th>1</th>\n",
       "      <td>666029285002620928</td>\n",
       "      <td>https://pbs.twimg.com/media/CT42GRgUYAA5iDo.jpg</td>\n",
       "      <td>1</td>\n",
       "      <td>redbone</td>\n",
       "      <td>0.506826</td>\n",
       "      <td>True</td>\n",
       "      <td>miniature_pinscher</td>\n",
       "      <td>0.074192</td>\n",
       "      <td>True</td>\n",
       "      <td>Rhodesian_ridgeback</td>\n",
       "      <td>0.072010</td>\n",
       "      <td>True</td>\n",
       "    </tr>\n",
       "    <tr>\n",
       "      <th>2</th>\n",
       "      <td>666033412701032449</td>\n",
       "      <td>https://pbs.twimg.com/media/CT4521TWwAEvMyu.jpg</td>\n",
       "      <td>1</td>\n",
       "      <td>German_shepherd</td>\n",
       "      <td>0.596461</td>\n",
       "      <td>True</td>\n",
       "      <td>malinois</td>\n",
       "      <td>0.138584</td>\n",
       "      <td>True</td>\n",
       "      <td>bloodhound</td>\n",
       "      <td>0.116197</td>\n",
       "      <td>True</td>\n",
       "    </tr>\n",
       "    <tr>\n",
       "      <th>3</th>\n",
       "      <td>666044226329800704</td>\n",
       "      <td>https://pbs.twimg.com/media/CT5Dr8HUEAA-lEu.jpg</td>\n",
       "      <td>1</td>\n",
       "      <td>Rhodesian_ridgeback</td>\n",
       "      <td>0.408143</td>\n",
       "      <td>True</td>\n",
       "      <td>redbone</td>\n",
       "      <td>0.360687</td>\n",
       "      <td>True</td>\n",
       "      <td>miniature_pinscher</td>\n",
       "      <td>0.222752</td>\n",
       "      <td>True</td>\n",
       "    </tr>\n",
       "    <tr>\n",
       "      <th>4</th>\n",
       "      <td>666049248165822465</td>\n",
       "      <td>https://pbs.twimg.com/media/CT5IQmsXIAAKY4A.jpg</td>\n",
       "      <td>1</td>\n",
       "      <td>miniature_pinscher</td>\n",
       "      <td>0.560311</td>\n",
       "      <td>True</td>\n",
       "      <td>Rottweiler</td>\n",
       "      <td>0.243682</td>\n",
       "      <td>True</td>\n",
       "      <td>Doberman</td>\n",
       "      <td>0.154629</td>\n",
       "      <td>True</td>\n",
       "    </tr>\n",
       "  </tbody>\n",
       "</table>\n",
       "</div>"
      ],
      "text/plain": [
       "             tweet_id                                          jpg_url  \\\n",
       "0  666020888022790149  https://pbs.twimg.com/media/CT4udn0WwAA0aMy.jpg   \n",
       "1  666029285002620928  https://pbs.twimg.com/media/CT42GRgUYAA5iDo.jpg   \n",
       "2  666033412701032449  https://pbs.twimg.com/media/CT4521TWwAEvMyu.jpg   \n",
       "3  666044226329800704  https://pbs.twimg.com/media/CT5Dr8HUEAA-lEu.jpg   \n",
       "4  666049248165822465  https://pbs.twimg.com/media/CT5IQmsXIAAKY4A.jpg   \n",
       "\n",
       "   img_num                      p1   p1_conf  p1_dog                  p2  \\\n",
       "0        1  Welsh_springer_spaniel  0.465074    True              collie   \n",
       "1        1                 redbone  0.506826    True  miniature_pinscher   \n",
       "2        1         German_shepherd  0.596461    True            malinois   \n",
       "3        1     Rhodesian_ridgeback  0.408143    True             redbone   \n",
       "4        1      miniature_pinscher  0.560311    True          Rottweiler   \n",
       "\n",
       "    p2_conf  p2_dog                   p3   p3_conf  p3_dog  \n",
       "0  0.156665    True    Shetland_sheepdog  0.061428    True  \n",
       "1  0.074192    True  Rhodesian_ridgeback  0.072010    True  \n",
       "2  0.138584    True           bloodhound  0.116197    True  \n",
       "3  0.360687    True   miniature_pinscher  0.222752    True  \n",
       "4  0.243682    True             Doberman  0.154629    True  "
      ]
     },
     "execution_count": 12,
     "metadata": {},
     "output_type": "execute_result"
    }
   ],
   "source": [
    "imageprediction.head()"
   ]
  },
  {
   "cell_type": "markdown",
   "id": "05f29c11",
   "metadata": {},
   "source": [
    "# check the datatypes of the variables are correct using the dtypes method"
   ]
  },
  {
   "cell_type": "code",
   "execution_count": 13,
   "id": "26c13f8a",
   "metadata": {},
   "outputs": [
    {
     "data": {
      "text/plain": [
       "tweet_id      int64\n",
       "jpg_url      object\n",
       "img_num       int64\n",
       "p1           object\n",
       "p1_conf     float64\n",
       "p1_dog         bool\n",
       "p2           object\n",
       "p2_conf     float64\n",
       "p2_dog         bool\n",
       "p3           object\n",
       "p3_conf     float64\n",
       "p3_dog         bool\n",
       "dtype: object"
      ]
     },
     "execution_count": 13,
     "metadata": {},
     "output_type": "execute_result"
    }
   ],
   "source": [
    "imageprediction.dtypes"
   ]
  },
  {
   "cell_type": "code",
   "execution_count": 14,
   "id": "10c7d1ee",
   "metadata": {},
   "outputs": [
    {
     "data": {
      "text/plain": [
       "tweet_id                        int64\n",
       "in_reply_to_status_id         float64\n",
       "in_reply_to_user_id           float64\n",
       "timestamp                      object\n",
       "source                         object\n",
       "text                           object\n",
       "retweeted_status_id           float64\n",
       "retweeted_status_user_id      float64\n",
       "retweeted_status_timestamp     object\n",
       "expanded_urls                  object\n",
       "rating_numerator                int64\n",
       "rating_denominator              int64\n",
       "name                           object\n",
       "doggo                          object\n",
       "floofer                        object\n",
       "pupper                         object\n",
       "puppo                          object\n",
       "dtype: object"
      ]
     },
     "execution_count": 14,
     "metadata": {},
     "output_type": "execute_result"
    }
   ],
   "source": [
    "twitter_archive.dtypes"
   ]
  },
  {
   "cell_type": "code",
   "execution_count": 15,
   "id": "06249955",
   "metadata": {},
   "outputs": [
    {
     "data": {
      "text/plain": [
       "id                 int64\n",
       "retweet_count      int64\n",
       "favorite_count     int64\n",
       "full_text         object\n",
       "source            object\n",
       "favorite_count     int64\n",
       "retweeted           bool\n",
       "dtype: object"
      ]
     },
     "execution_count": 15,
     "metadata": {},
     "output_type": "execute_result"
    }
   ],
   "source": [
    "tweets_df.dtypes"
   ]
  },
  {
   "cell_type": "markdown",
   "id": "a1382f99",
   "metadata": {},
   "source": [
    "## check if all the images are for dogs"
   ]
  },
  {
   "cell_type": "code",
   "execution_count": 16,
   "id": "aa86351a",
   "metadata": {},
   "outputs": [
    {
     "data": {
      "text/plain": [
       "True     1532\n",
       "False     543\n",
       "Name: p1_dog, dtype: int64"
      ]
     },
     "execution_count": 16,
     "metadata": {},
     "output_type": "execute_result"
    }
   ],
   "source": [
    "\n",
    "imageprediction['p1_dog'].value_counts()"
   ]
  },
  {
   "cell_type": "code",
   "execution_count": 17,
   "id": "a4483355",
   "metadata": {},
   "outputs": [
    {
     "data": {
      "text/plain": [
       "1.0"
      ]
     },
     "execution_count": 17,
     "metadata": {},
     "output_type": "execute_result"
    }
   ],
   "source": [
    "#confidence level should exceed 1\n",
    "imageprediction['p1_conf'].max()"
   ]
  },
  {
   "cell_type": "code",
   "execution_count": 18,
   "id": "ada4200d",
   "metadata": {},
   "outputs": [
    {
     "data": {
      "text/plain": [
       "Labrador_retriever    104\n",
       "golden_retriever       92\n",
       "Cardigan               73\n",
       "Chihuahua              44\n",
       "Pomeranian             42\n",
       "                     ... \n",
       "medicine_chest          1\n",
       "quail                   1\n",
       "horse_cart              1\n",
       "waffle_iron             1\n",
       "bagel                   1\n",
       "Name: p2, Length: 405, dtype: int64"
      ]
     },
     "execution_count": 18,
     "metadata": {},
     "output_type": "execute_result"
    }
   ],
   "source": [
    "imageprediction['p2'].value_counts()"
   ]
  },
  {
   "cell_type": "code",
   "execution_count": 19,
   "id": "c276615d",
   "metadata": {},
   "outputs": [
    {
     "name": "stdout",
     "output_type": "stream",
     "text": [
      "10     2333\n",
      "11        3\n",
      "50        3\n",
      "20        2\n",
      "80        2\n",
      "70        1\n",
      "7         1\n",
      "15        1\n",
      "150       1\n",
      "170       1\n",
      "0         1\n",
      "90        1\n",
      "40        1\n",
      "130       1\n",
      "110       1\n",
      "16        1\n",
      "120       1\n",
      "2         1\n",
      "Name: rating_denominator, dtype: int64\n"
     ]
    }
   ],
   "source": [
    "twitter_archive['rating_denominator'].max()\n",
    "print(twitter_archive['rating_denominator'].value_counts())"
   ]
  },
  {
   "cell_type": "markdown",
   "id": "c8af299b",
   "metadata": {},
   "source": [
    "<a id='issues'></a>\n",
    "# Data Issues Identified"
   ]
  },
  {
   "cell_type": "markdown",
   "id": "416616e1",
   "metadata": {},
   "source": [
    "# Quality"
   ]
  },
  {
   "cell_type": "markdown",
   "id": "0c772678",
   "metadata": {},
   "source": [
    "## Visual Assessment\n",
    "Through visual assesment the following data quality issues were identified.\n",
    "1. In the imageprediction dataframe there is mix of uppercase and lowercase in p1,p2, and p3\n",
    "1. The timestamp column in the twitter_archive dataframe is incorectly represented\n",
    "1. Null values in several columns in the tweet_archive dataframe\n",
    "1. The id column in the twitter_archive and the tweet_id column in the tweet_df should be in sync.\n",
    "1. There are retweets within the dataframes indicated by @ in the full_text column\n"
   ]
  },
  {
   "cell_type": "markdown",
   "id": "5057543b",
   "metadata": {},
   "source": [
    "## Pragmatic Assesment\n",
    "Through the use of code to asses the datasets the following data quality issues were identified:\n",
    "1. Retweets are included in the dataset\n",
    "1. Some pictures in the imageprediction datasets are not for dogs\n",
    "1. Rating denominator for some tweets is not ten\n",
    "1. In the dog_stage column some rows have two dog stages"
   ]
  },
  {
   "cell_type": "markdown",
   "id": "f9bce965",
   "metadata": {},
   "source": [
    "# Tidiness"
   ]
  },
  {
   "cell_type": "markdown",
   "id": "f780b176",
   "metadata": {},
   "source": [
    "## Visual Assesment\n",
    "Through visual assesment the following data tidiness issues were identified.\n",
    "1. In the tweet_df there are two columns for retweet count with the same values\n",
    "1. doggo, floofer,pupper,puppo should all be together as one variable\n",
    "1. Information about one type of observational unit (tweets) is spread across three different files but should be stored in one location."
   ]
  },
  {
   "cell_type": "markdown",
   "id": "33e3b00d",
   "metadata": {},
   "source": [
    "<a id='cleaning'> </a>\n",
    "# Data Cleaning."
   ]
  },
  {
   "cell_type": "markdown",
   "id": "8e10736d",
   "metadata": {},
   "source": [
    "### Create copies of the original data."
   ]
  },
  {
   "cell_type": "code",
   "execution_count": 20,
   "id": "00718741",
   "metadata": {},
   "outputs": [],
   "source": [
    "twitter_archive_clean=twitter_archive.copy()\n",
    "imageprediction_clean=imageprediction.copy()\n",
    "tweets_df_clean=tweets_df.copy()"
   ]
  },
  {
   "cell_type": "markdown",
   "id": "2230ea45",
   "metadata": {},
   "source": [
    "### Define\n",
    "Drop rows with pictures in the imageprediction dataframe which are not for dogs to retain only rows with pictures of dogs."
   ]
  },
  {
   "cell_type": "markdown",
   "id": "11b3a6af",
   "metadata": {},
   "source": [
    "### Code"
   ]
  },
  {
   "cell_type": "code",
   "execution_count": 21,
   "id": "093f5607",
   "metadata": {},
   "outputs": [],
   "source": [
    "# Get the index of all the rows with False in the p1_dog, p2_dog and p3_dog columns\n",
    "not_dog_index = imageprediction_clean.query('p1_dog== False and p2_dog == False and p3_dog == False').index\n",
    "# Use the created index to dop all the rows whose pictures are not for dogs.\n",
    "\n",
    "imageprediction_clean.drop(not_dog_index, inplace=True)"
   ]
  },
  {
   "cell_type": "markdown",
   "id": "3b608dfe",
   "metadata": {},
   "source": [
    "### Check"
   ]
  },
  {
   "cell_type": "code",
   "execution_count": 22,
   "id": "d6c6b12b",
   "metadata": {},
   "outputs": [
    {
     "data": {
      "text/plain": [
       "0"
      ]
     },
     "execution_count": 22,
     "metadata": {},
     "output_type": "execute_result"
    }
   ],
   "source": [
    "# Check to see if there are rows with False value in all the three columns\n",
    "not_dog = imageprediction_clean.query('p1_dog== False and p2_dog == False and p3_dog == False')\n",
    "len(not_dog)"
   ]
  },
  {
   "cell_type": "markdown",
   "id": "82f904a1",
   "metadata": {},
   "source": [
    "### Define\n",
    "Convert tweet_id and id columns to a common name"
   ]
  },
  {
   "cell_type": "markdown",
   "id": "5eb88a59",
   "metadata": {},
   "source": [
    "### Code"
   ]
  },
  {
   "cell_type": "code",
   "execution_count": 23,
   "id": "29e74f03",
   "metadata": {},
   "outputs": [],
   "source": [
    "tweets_df_clean.rename(columns ={'id':'tweet_id'}, inplace = True)"
   ]
  },
  {
   "cell_type": "markdown",
   "id": "96f6c990",
   "metadata": {},
   "source": [
    "### Check"
   ]
  },
  {
   "cell_type": "code",
   "execution_count": 24,
   "id": "5dd4623d",
   "metadata": {},
   "outputs": [
    {
     "data": {
      "text/plain": [
       "Index(['tweet_id', 'retweet_count', 'favorite_count', 'full_text', 'source',\n",
       "       'favorite_count', 'retweeted'],\n",
       "      dtype='object')"
      ]
     },
     "execution_count": 24,
     "metadata": {},
     "output_type": "execute_result"
    }
   ],
   "source": [
    "tweets_df_clean.columns"
   ]
  },
  {
   "cell_type": "markdown",
   "id": "f6707d9c",
   "metadata": {},
   "source": [
    "### Define\n",
    "Assign the most likely breed and store it in a breed column based on the machine learning prediction provided in the imageprediction_clean dataframe"
   ]
  },
  {
   "cell_type": "markdown",
   "id": "8bc262a7",
   "metadata": {},
   "source": [
    "### Code"
   ]
  },
  {
   "cell_type": "code",
   "execution_count": 25,
   "id": "1a1a0d06",
   "metadata": {},
   "outputs": [],
   "source": [
    "# Define a function to assign a likely breed of each picture in the imageprediction datafram\n",
    "def dog_breed(x):\n",
    "    '''This function assign dog breed to a row based on the imageprediction values'''\n",
    "    if x[1]==True:\n",
    "        return x[0]\n",
    "    elif x[3] ==True:\n",
    "        return x[2]\n",
    "    elif x[5]==True:\n",
    "        return x[4]\n",
    "# call the dog breed function and pass the columns to apply the function\n",
    "imageprediction_clean['breed']=imageprediction_clean[['p1','p1_dog', 'p2', 'p2_dog', 'p3','p3_dog']].apply(dog_breed, axis=1)"
   ]
  },
  {
   "cell_type": "markdown",
   "id": "979c6a53",
   "metadata": {},
   "source": [
    "### Check"
   ]
  },
  {
   "cell_type": "code",
   "execution_count": 26,
   "id": "40751181",
   "metadata": {},
   "outputs": [
    {
     "data": {
      "text/plain": [
       "golden_retriever        173\n",
       "Labrador_retriever      113\n",
       "Pembroke                 96\n",
       "Chihuahua                95\n",
       "pug                      65\n",
       "                       ... \n",
       "Scotch_terrier            1\n",
       "EntleBucher               1\n",
       "Japanese_spaniel          1\n",
       "standard_schnauzer        1\n",
       "Bouvier_des_Flandres      1\n",
       "Name: breed, Length: 113, dtype: int64"
      ]
     },
     "execution_count": 26,
     "metadata": {},
     "output_type": "execute_result"
    }
   ],
   "source": [
    "imageprediction_clean['breed'].value_counts()"
   ]
  },
  {
   "cell_type": "markdown",
   "id": "ff2019f4",
   "metadata": {},
   "source": [
    "### Define\n",
    "Convert the values in the in p1,p2, and p3 columns in the imageprediction dataframe to lowercase\n",
    "Use the string format .lower() to convert to lowercase"
   ]
  },
  {
   "cell_type": "markdown",
   "id": "24bd21a7",
   "metadata": {},
   "source": [
    "### Code"
   ]
  },
  {
   "cell_type": "code",
   "execution_count": 27,
   "id": "8988d917",
   "metadata": {},
   "outputs": [
    {
     "data": {
      "text/plain": [
       "Index(['tweet_id', 'jpg_url', 'img_num', 'p1', 'p1_conf', 'p1_dog', 'p2',\n",
       "       'p2_conf', 'p2_dog', 'p3', 'p3_conf', 'p3_dog', 'breed'],\n",
       "      dtype='object')"
      ]
     },
     "execution_count": 27,
     "metadata": {},
     "output_type": "execute_result"
    }
   ],
   "source": [
    "imageprediction_clean.columns"
   ]
  },
  {
   "cell_type": "code",
   "execution_count": 28,
   "id": "95916cbb",
   "metadata": {},
   "outputs": [],
   "source": [
    "imageprediction_clean['p1'] = imageprediction_clean['p1'].str.lower()\n",
    "imageprediction_clean['p2']= imageprediction_clean['p2'].str.lower()\n",
    "imageprediction_clean['p3'] = imageprediction_clean['p3'].str.lower()"
   ]
  },
  {
   "cell_type": "markdown",
   "id": "f98a841f",
   "metadata": {},
   "source": [
    "### Check"
   ]
  },
  {
   "cell_type": "code",
   "execution_count": 29,
   "id": "64383d61",
   "metadata": {},
   "outputs": [
    {
     "data": {
      "text/html": [
       "<div>\n",
       "<style scoped>\n",
       "    .dataframe tbody tr th:only-of-type {\n",
       "        vertical-align: middle;\n",
       "    }\n",
       "\n",
       "    .dataframe tbody tr th {\n",
       "        vertical-align: top;\n",
       "    }\n",
       "\n",
       "    .dataframe thead th {\n",
       "        text-align: right;\n",
       "    }\n",
       "</style>\n",
       "<table border=\"1\" class=\"dataframe\">\n",
       "  <thead>\n",
       "    <tr style=\"text-align: right;\">\n",
       "      <th></th>\n",
       "      <th>tweet_id</th>\n",
       "      <th>jpg_url</th>\n",
       "      <th>img_num</th>\n",
       "      <th>p1</th>\n",
       "      <th>p1_conf</th>\n",
       "      <th>p1_dog</th>\n",
       "      <th>p2</th>\n",
       "      <th>p2_conf</th>\n",
       "      <th>p2_dog</th>\n",
       "      <th>p3</th>\n",
       "      <th>p3_conf</th>\n",
       "      <th>p3_dog</th>\n",
       "      <th>breed</th>\n",
       "    </tr>\n",
       "  </thead>\n",
       "  <tbody>\n",
       "    <tr>\n",
       "      <th>120</th>\n",
       "      <td>668190681446379520</td>\n",
       "      <td>https://pbs.twimg.com/media/CUXj4SgXAAETlu6.jpg</td>\n",
       "      <td>1</td>\n",
       "      <td>blenheim_spaniel</td>\n",
       "      <td>0.958402</td>\n",
       "      <td>True</td>\n",
       "      <td>cocker_spaniel</td>\n",
       "      <td>0.026764</td>\n",
       "      <td>True</td>\n",
       "      <td>welsh_springer_spaniel</td>\n",
       "      <td>0.007790</td>\n",
       "      <td>True</td>\n",
       "      <td>Blenheim_spaniel</td>\n",
       "    </tr>\n",
       "    <tr>\n",
       "      <th>1455</th>\n",
       "      <td>777621514455814149</td>\n",
       "      <td>https://pbs.twimg.com/media/Csqqoo5WEAAMTVW.jpg</td>\n",
       "      <td>1</td>\n",
       "      <td>chow</td>\n",
       "      <td>0.999823</td>\n",
       "      <td>True</td>\n",
       "      <td>norwich_terrier</td>\n",
       "      <td>0.000056</td>\n",
       "      <td>True</td>\n",
       "      <td>pomeranian</td>\n",
       "      <td>0.000028</td>\n",
       "      <td>True</td>\n",
       "      <td>chow</td>\n",
       "    </tr>\n",
       "    <tr>\n",
       "      <th>1575</th>\n",
       "      <td>796031486298386433</td>\n",
       "      <td>https://pbs.twimg.com/media/CwwSaWJWIAASuoY.jpg</td>\n",
       "      <td>1</td>\n",
       "      <td>golden_retriever</td>\n",
       "      <td>0.893775</td>\n",
       "      <td>True</td>\n",
       "      <td>labrador_retriever</td>\n",
       "      <td>0.070140</td>\n",
       "      <td>True</td>\n",
       "      <td>doormat</td>\n",
       "      <td>0.008419</td>\n",
       "      <td>False</td>\n",
       "      <td>golden_retriever</td>\n",
       "    </tr>\n",
       "    <tr>\n",
       "      <th>1879</th>\n",
       "      <td>846514051647705089</td>\n",
       "      <td>https://pbs.twimg.com/media/C79sB4xXwAEvwKY.jpg</td>\n",
       "      <td>2</td>\n",
       "      <td>golden_retriever</td>\n",
       "      <td>0.650003</td>\n",
       "      <td>True</td>\n",
       "      <td>leonberg</td>\n",
       "      <td>0.065199</td>\n",
       "      <td>True</td>\n",
       "      <td>norfolk_terrier</td>\n",
       "      <td>0.052955</td>\n",
       "      <td>True</td>\n",
       "      <td>golden_retriever</td>\n",
       "    </tr>\n",
       "    <tr>\n",
       "      <th>728</th>\n",
       "      <td>686386521809772549</td>\n",
       "      <td>https://pbs.twimg.com/media/CYaI5aaW8AE8Uyk.jpg</td>\n",
       "      <td>1</td>\n",
       "      <td>yorkshire_terrier</td>\n",
       "      <td>0.477704</td>\n",
       "      <td>True</td>\n",
       "      <td>silky_terrier</td>\n",
       "      <td>0.171673</td>\n",
       "      <td>True</td>\n",
       "      <td>australian_terrier</td>\n",
       "      <td>0.088334</td>\n",
       "      <td>True</td>\n",
       "      <td>Yorkshire_terrier</td>\n",
       "    </tr>\n",
       "    <tr>\n",
       "      <th>771</th>\n",
       "      <td>689517482558820352</td>\n",
       "      <td>https://pbs.twimg.com/media/CZGofjJW0AINjN9.jpg</td>\n",
       "      <td>1</td>\n",
       "      <td>pembroke</td>\n",
       "      <td>0.799319</td>\n",
       "      <td>True</td>\n",
       "      <td>cardigan</td>\n",
       "      <td>0.189537</td>\n",
       "      <td>True</td>\n",
       "      <td>papillon</td>\n",
       "      <td>0.003386</td>\n",
       "      <td>True</td>\n",
       "      <td>Pembroke</td>\n",
       "    </tr>\n",
       "    <tr>\n",
       "      <th>1967</th>\n",
       "      <td>867900495410671616</td>\n",
       "      <td>https://pbs.twimg.com/media/DAtm5MkXoAA4R6P.jpg</td>\n",
       "      <td>1</td>\n",
       "      <td>labrador_retriever</td>\n",
       "      <td>0.522644</td>\n",
       "      <td>True</td>\n",
       "      <td>kuvasz</td>\n",
       "      <td>0.332461</td>\n",
       "      <td>True</td>\n",
       "      <td>dalmatian</td>\n",
       "      <td>0.032008</td>\n",
       "      <td>True</td>\n",
       "      <td>Labrador_retriever</td>\n",
       "    </tr>\n",
       "    <tr>\n",
       "      <th>1945</th>\n",
       "      <td>862096992088072192</td>\n",
       "      <td>https://pbs.twimg.com/media/C_bIo7QXYAAGfPu.jpg</td>\n",
       "      <td>2</td>\n",
       "      <td>chow</td>\n",
       "      <td>0.677589</td>\n",
       "      <td>True</td>\n",
       "      <td>pomeranian</td>\n",
       "      <td>0.270648</td>\n",
       "      <td>True</td>\n",
       "      <td>pekinese</td>\n",
       "      <td>0.038110</td>\n",
       "      <td>True</td>\n",
       "      <td>chow</td>\n",
       "    </tr>\n",
       "    <tr>\n",
       "      <th>997</th>\n",
       "      <td>708356463048204288</td>\n",
       "      <td>https://pbs.twimg.com/media/CdSWcc1XIAAXc6H.jpg</td>\n",
       "      <td>2</td>\n",
       "      <td>pug</td>\n",
       "      <td>0.871283</td>\n",
       "      <td>True</td>\n",
       "      <td>french_bulldog</td>\n",
       "      <td>0.041820</td>\n",
       "      <td>True</td>\n",
       "      <td>bath_towel</td>\n",
       "      <td>0.015228</td>\n",
       "      <td>False</td>\n",
       "      <td>pug</td>\n",
       "    </tr>\n",
       "    <tr>\n",
       "      <th>79</th>\n",
       "      <td>667453023279554560</td>\n",
       "      <td>https://pbs.twimg.com/media/CUNE_OSUwAAdHhX.jpg</td>\n",
       "      <td>1</td>\n",
       "      <td>labrador_retriever</td>\n",
       "      <td>0.825670</td>\n",
       "      <td>True</td>\n",
       "      <td>french_bulldog</td>\n",
       "      <td>0.056639</td>\n",
       "      <td>True</td>\n",
       "      <td>staffordshire_bullterrier</td>\n",
       "      <td>0.054018</td>\n",
       "      <td>True</td>\n",
       "      <td>Labrador_retriever</td>\n",
       "    </tr>\n",
       "  </tbody>\n",
       "</table>\n",
       "</div>"
      ],
      "text/plain": [
       "                tweet_id                                          jpg_url  \\\n",
       "120   668190681446379520  https://pbs.twimg.com/media/CUXj4SgXAAETlu6.jpg   \n",
       "1455  777621514455814149  https://pbs.twimg.com/media/Csqqoo5WEAAMTVW.jpg   \n",
       "1575  796031486298386433  https://pbs.twimg.com/media/CwwSaWJWIAASuoY.jpg   \n",
       "1879  846514051647705089  https://pbs.twimg.com/media/C79sB4xXwAEvwKY.jpg   \n",
       "728   686386521809772549  https://pbs.twimg.com/media/CYaI5aaW8AE8Uyk.jpg   \n",
       "771   689517482558820352  https://pbs.twimg.com/media/CZGofjJW0AINjN9.jpg   \n",
       "1967  867900495410671616  https://pbs.twimg.com/media/DAtm5MkXoAA4R6P.jpg   \n",
       "1945  862096992088072192  https://pbs.twimg.com/media/C_bIo7QXYAAGfPu.jpg   \n",
       "997   708356463048204288  https://pbs.twimg.com/media/CdSWcc1XIAAXc6H.jpg   \n",
       "79    667453023279554560  https://pbs.twimg.com/media/CUNE_OSUwAAdHhX.jpg   \n",
       "\n",
       "      img_num                  p1   p1_conf  p1_dog                  p2  \\\n",
       "120         1    blenheim_spaniel  0.958402    True      cocker_spaniel   \n",
       "1455        1                chow  0.999823    True     norwich_terrier   \n",
       "1575        1    golden_retriever  0.893775    True  labrador_retriever   \n",
       "1879        2    golden_retriever  0.650003    True            leonberg   \n",
       "728         1   yorkshire_terrier  0.477704    True       silky_terrier   \n",
       "771         1            pembroke  0.799319    True            cardigan   \n",
       "1967        1  labrador_retriever  0.522644    True              kuvasz   \n",
       "1945        2                chow  0.677589    True          pomeranian   \n",
       "997         2                 pug  0.871283    True      french_bulldog   \n",
       "79          1  labrador_retriever  0.825670    True      french_bulldog   \n",
       "\n",
       "       p2_conf  p2_dog                         p3   p3_conf  p3_dog  \\\n",
       "120   0.026764    True     welsh_springer_spaniel  0.007790    True   \n",
       "1455  0.000056    True                 pomeranian  0.000028    True   \n",
       "1575  0.070140    True                    doormat  0.008419   False   \n",
       "1879  0.065199    True            norfolk_terrier  0.052955    True   \n",
       "728   0.171673    True         australian_terrier  0.088334    True   \n",
       "771   0.189537    True                   papillon  0.003386    True   \n",
       "1967  0.332461    True                  dalmatian  0.032008    True   \n",
       "1945  0.270648    True                   pekinese  0.038110    True   \n",
       "997   0.041820    True                 bath_towel  0.015228   False   \n",
       "79    0.056639    True  staffordshire_bullterrier  0.054018    True   \n",
       "\n",
       "                   breed  \n",
       "120     Blenheim_spaniel  \n",
       "1455                chow  \n",
       "1575    golden_retriever  \n",
       "1879    golden_retriever  \n",
       "728    Yorkshire_terrier  \n",
       "771             Pembroke  \n",
       "1967  Labrador_retriever  \n",
       "1945                chow  \n",
       "997                  pug  \n",
       "79    Labrador_retriever  "
      ]
     },
     "execution_count": 29,
     "metadata": {},
     "output_type": "execute_result"
    }
   ],
   "source": [
    "imageprediction_clean.sample(10)"
   ]
  },
  {
   "cell_type": "markdown",
   "id": "1c76329c",
   "metadata": {},
   "source": [
    "### Define \n",
    "Change the rating denominator to be a 10 in all the tweets"
   ]
  },
  {
   "cell_type": "markdown",
   "id": "f3a0c9f7",
   "metadata": {},
   "source": [
    "### Code"
   ]
  },
  {
   "cell_type": "code",
   "execution_count": 30,
   "id": "6d58211f",
   "metadata": {},
   "outputs": [],
   "source": [
    "twitter_archive_clean['rating_denominator'] = 10"
   ]
  },
  {
   "cell_type": "markdown",
   "id": "c1314925",
   "metadata": {},
   "source": [
    "### Check"
   ]
  },
  {
   "cell_type": "code",
   "execution_count": 31,
   "id": "7ffbc381",
   "metadata": {},
   "outputs": [
    {
     "data": {
      "text/plain": [
       "10    2356\n",
       "Name: rating_denominator, dtype: int64"
      ]
     },
     "execution_count": 31,
     "metadata": {},
     "output_type": "execute_result"
    }
   ],
   "source": [
    "twitter_archive_clean['rating_denominator'].value_counts()"
   ]
  },
  {
   "cell_type": "markdown",
   "id": "ce773e0f",
   "metadata": {},
   "source": [
    "### Define\n",
    "combine the doggo, floofer,pupper, and puppo column to form one column in the twitter archive dataset."
   ]
  },
  {
   "cell_type": "code",
   "execution_count": 32,
   "id": "8fecee1a",
   "metadata": {},
   "outputs": [
    {
     "data": {
      "text/plain": [
       "Index(['tweet_id', 'in_reply_to_status_id', 'in_reply_to_user_id', 'timestamp',\n",
       "       'source', 'text', 'retweeted_status_id', 'retweeted_status_user_id',\n",
       "       'retweeted_status_timestamp', 'expanded_urls', 'rating_numerator',\n",
       "       'rating_denominator', 'name', 'doggo', 'floofer', 'pupper', 'puppo'],\n",
       "      dtype='object')"
      ]
     },
     "execution_count": 32,
     "metadata": {},
     "output_type": "execute_result"
    }
   ],
   "source": [
    "twitter_archive_clean.columns"
   ]
  },
  {
   "cell_type": "markdown",
   "id": "cc390c91",
   "metadata": {},
   "source": [
    "### Code"
   ]
  },
  {
   "cell_type": "code",
   "execution_count": 33,
   "id": "15dbb47a",
   "metadata": {},
   "outputs": [],
   "source": [
    "dog_stages = ['doggo','floofer','pupper','puppo']\n",
    "for i in dog_stages:\n",
    "    twitter_archive_clean[i].replace('None','', inplace=True)\n",
    "twitter_archive_clean['dog_stage'] = twitter_archive_clean['doggo'] + twitter_archive_clean['floofer'] + twitter_archive_clean['pupper'] + twitter_archive_clean['puppo']"
   ]
  },
  {
   "cell_type": "code",
   "execution_count": 34,
   "id": "676f84e1",
   "metadata": {},
   "outputs": [],
   "source": [
    "twitter_archive_clean['dog_stage'].replace('','None', inplace=True)"
   ]
  },
  {
   "cell_type": "markdown",
   "id": "4cea2a02",
   "metadata": {},
   "source": [
    "### Check"
   ]
  },
  {
   "cell_type": "code",
   "execution_count": 35,
   "id": "61a8232c",
   "metadata": {},
   "outputs": [
    {
     "data": {
      "text/plain": [
       "None            1976\n",
       "pupper           245\n",
       "doggo             83\n",
       "puppo             29\n",
       "doggopupper       12\n",
       "floofer            9\n",
       "doggopuppo         1\n",
       "doggofloofer       1\n",
       "Name: dog_stage, dtype: int64"
      ]
     },
     "execution_count": 35,
     "metadata": {},
     "output_type": "execute_result"
    }
   ],
   "source": [
    "twitter_archive_clean['dog_stage'].value_counts()"
   ]
  },
  {
   "cell_type": "markdown",
   "id": "3c71dec0",
   "metadata": {},
   "source": [
    "### Define\n",
    "Remove the second dog_stage name in rows with two dog stage names"
   ]
  },
  {
   "cell_type": "markdown",
   "id": "dbe79d85",
   "metadata": {},
   "source": [
    "### Code"
   ]
  },
  {
   "cell_type": "code",
   "execution_count": 36,
   "id": "6c734682",
   "metadata": {},
   "outputs": [],
   "source": [
    "twitter_archive_clean['dog_stage'].replace('doggopupper','Multistage', inplace=True)\n",
    "twitter_archive_clean['dog_stage'].replace('doggopuppo','Multistage', inplace=True)\n",
    "twitter_archive_clean['dog_stage'].replace('doggofloofer','Multistage',inplace=True)"
   ]
  },
  {
   "cell_type": "markdown",
   "id": "c65f5de7",
   "metadata": {},
   "source": [
    "### Check"
   ]
  },
  {
   "cell_type": "code",
   "execution_count": 37,
   "id": "f553f311",
   "metadata": {},
   "outputs": [
    {
     "data": {
      "text/plain": [
       "None          1976\n",
       "pupper         245\n",
       "doggo           83\n",
       "puppo           29\n",
       "Multistage      14\n",
       "floofer          9\n",
       "Name: dog_stage, dtype: int64"
      ]
     },
     "execution_count": 37,
     "metadata": {},
     "output_type": "execute_result"
    }
   ],
   "source": [
    "twitter_archive_clean['dog_stage'].value_counts()"
   ]
  },
  {
   "cell_type": "markdown",
   "id": "dae2c05e",
   "metadata": {},
   "source": [
    "### Remove retweets within the datasets\n",
    "The rows which are retweets can be identified using the full_text column as it starts with @\n",
    "Or where the retweets related columns are not blank eg., retweeted_statu_sid"
   ]
  },
  {
   "cell_type": "markdown",
   "id": "f4b5090e",
   "metadata": {},
   "source": [
    "### Code"
   ]
  },
  {
   "cell_type": "code",
   "execution_count": 39,
   "id": "1e00bf3c",
   "metadata": {},
   "outputs": [],
   "source": [
    "#Select rows where the retweeted_status_id column is null using the isnull()function\n",
    "twitter_archive_clean =twitter_archive_clean[twitter_archive_clean['retweeted_status_id'].isnull()]\n",
    "# Use the retweeted column to only select rows with False value  in the tweets_df_clean dataframe\n",
    "tweets_df_clean = tweets_df_clean[tweets_df_clean['retweeted']==False]"
   ]
  },
  {
   "cell_type": "code",
   "execution_count": 47,
   "id": "b431171d",
   "metadata": {},
   "outputs": [
    {
     "name": "stdout",
     "output_type": "stream",
     "text": [
      "0\n",
      "1\n"
     ]
    }
   ],
   "source": [
    "### Check\n",
    "print(twitter_archive_clean.retweeted_status_id.notnull().sum())\n",
    "print(tweets_df_clean.retweeted.nunique())"
   ]
  },
  {
   "cell_type": "markdown",
   "id": "dac138df",
   "metadata": {},
   "source": [
    "### Define\n",
    "Drop columns with many null valuess and unnecessary variables from the datasets.\n",
    "Additionaly, drop the duplicate columns using drop_duplicate() function from the tweets_df_clean dataframe."
   ]
  },
  {
   "cell_type": "markdown",
   "id": "ec378c4b",
   "metadata": {},
   "source": [
    "### Code"
   ]
  },
  {
   "cell_type": "code",
   "execution_count": 48,
   "id": "5b1b770c",
   "metadata": {},
   "outputs": [
    {
     "data": {
      "text/plain": [
       "Index(['id', 'retweet_count', 'favorite_count', 'full_text', 'source',\n",
       "       'favorite_count', 'retweeted'],\n",
       "      dtype='object')"
      ]
     },
     "execution_count": 48,
     "metadata": {},
     "output_type": "execute_result"
    }
   ],
   "source": [
    "tweets_df.columns"
   ]
  },
  {
   "cell_type": "code",
   "execution_count": 49,
   "id": "228ee27c",
   "metadata": {},
   "outputs": [],
   "source": [
    "# To drop one of the columns named 'favorite_count'\n",
    "#tweets_df_clean.drop_duplicates(inplace =True)\n",
    "\n",
    "# Remove duplicate columns pandas DataFrame\n",
    "tweets_df_clean = tweets_df_clean.loc[:,~tweets_df_clean.columns.duplicated()]\n",
    "tweets_df_clean.drop(['source','retweeted'],axis= 1,inplace=True)\n",
    "twitter_archive_clean.drop(['retweeted_status_timestamp', 'expanded_urls','doggo', 'floofer', 'pupper', 'puppo'],axis=1, inplace=True)\n",
    "imageprediction_clean.drop(['jpg_url', 'img_num'], axis = 1, inplace = True)"
   ]
  },
  {
   "cell_type": "markdown",
   "id": "0f7a5853",
   "metadata": {},
   "source": [
    "### Check"
   ]
  },
  {
   "cell_type": "code",
   "execution_count": 50,
   "id": "3ede1fe6",
   "metadata": {},
   "outputs": [
    {
     "name": "stdout",
     "output_type": "stream",
     "text": [
      "Index(['tweet_id', 'p1', 'p1_conf', 'p1_dog', 'p2', 'p2_conf', 'p2_dog', 'p3',\n",
      "       'p3_conf', 'p3_dog', 'breed'],\n",
      "      dtype='object')\n",
      "Index(['tweet_id', 'retweet_count', 'favorite_count', 'full_text'], dtype='object')\n",
      "Index(['tweet_id', 'in_reply_to_status_id', 'in_reply_to_user_id', 'timestamp',\n",
      "       'source', 'text', 'retweeted_status_id', 'retweeted_status_user_id',\n",
      "       'rating_numerator', 'rating_denominator', 'name', 'dog_stage'],\n",
      "      dtype='object')\n"
     ]
    }
   ],
   "source": [
    "print(imageprediction_clean.columns)\n",
    "print(tweets_df_clean.columns)\n",
    "print(twitter_archive_clean.columns)"
   ]
  },
  {
   "cell_type": "markdown",
   "id": "8da71305",
   "metadata": {},
   "source": [
    "### Define\n",
    "Remove the +0000 at the end of the "
   ]
  },
  {
   "cell_type": "markdown",
   "id": "10d5dfc6",
   "metadata": {},
   "source": [
    "### Code"
   ]
  },
  {
   "cell_type": "code",
   "execution_count": 51,
   "id": "2384f6ef",
   "metadata": {},
   "outputs": [],
   "source": [
    "twitter_archive_clean['timestamp']=twitter_archive_clean['timestamp'].str.strip('+0000')"
   ]
  },
  {
   "cell_type": "markdown",
   "id": "3ec2b640",
   "metadata": {},
   "source": [
    "### Check"
   ]
  },
  {
   "cell_type": "code",
   "execution_count": 52,
   "id": "af5a0d3a",
   "metadata": {},
   "outputs": [
    {
     "data": {
      "text/plain": [
       "1040    2016-06-18 17:41:06 \n",
       "Name: timestamp, dtype: object"
      ]
     },
     "execution_count": 52,
     "metadata": {},
     "output_type": "execute_result"
    }
   ],
   "source": [
    "twitter_archive_clean.timestamp.sample()"
   ]
  },
  {
   "cell_type": "markdown",
   "id": "e5ff23af",
   "metadata": {},
   "source": [
    "<a id='storing_data'></a>\n",
    "#  Storing the data\n",
    "## Merge all the datasets using the tweet_id column to form one dataframe which we will then analyse."
   ]
  },
  {
   "cell_type": "code",
   "execution_count": 53,
   "id": "a64ce104",
   "metadata": {},
   "outputs": [],
   "source": [
    "tweets_merged= pd.merge(twitter_archive_clean,tweets_df_clean, on= 'tweet_id').merge(imageprediction_clean,on='tweet_id')"
   ]
  },
  {
   "cell_type": "code",
   "execution_count": 54,
   "id": "7bcbc96e",
   "metadata": {},
   "outputs": [
    {
     "data": {
      "text/plain": [
       "(1686, 25)"
      ]
     },
     "execution_count": 54,
     "metadata": {},
     "output_type": "execute_result"
    }
   ],
   "source": [
    "tweets_merged.shape"
   ]
  },
  {
   "cell_type": "code",
   "execution_count": 55,
   "id": "c0afbd60",
   "metadata": {},
   "outputs": [],
   "source": [
    "tweets_merged.to_csv('twitter_archive_master.csv')"
   ]
  },
  {
   "cell_type": "markdown",
   "id": "a3244100",
   "metadata": {},
   "source": [
    "<a id='analysis'></a>\n",
    "# Analyzing and Visualizing Data\n",
    "You must produce at least three (3) insights and one (1) visualization.\n",
    "You must clearly document the piece of assessed and cleaned (if necessary) data used to make each analysis and visualization.\n",
    "The following insights will be looked at in the dataset.\n",
    "1. Comparison of retweet and favorite counts\n",
    "1. Dog breed distribution\n",
    "1. Dog ratings distribution against favorite count"
   ]
  },
  {
   "cell_type": "code",
   "execution_count": 56,
   "id": "c7af382e",
   "metadata": {},
   "outputs": [
    {
     "data": {
      "text/plain": [
       "Index(['tweet_id', 'in_reply_to_status_id', 'in_reply_to_user_id', 'timestamp',\n",
       "       'source', 'text', 'retweeted_status_id', 'retweeted_status_user_id',\n",
       "       'rating_numerator', 'rating_denominator', 'name', 'dog_stage',\n",
       "       'retweet_count', 'favorite_count', 'full_text', 'p1', 'p1_conf',\n",
       "       'p1_dog', 'p2', 'p2_conf', 'p2_dog', 'p3', 'p3_conf', 'p3_dog',\n",
       "       'breed'],\n",
       "      dtype='object')"
      ]
     },
     "execution_count": 56,
     "metadata": {},
     "output_type": "execute_result"
    }
   ],
   "source": [
    "tweets_merged.columns"
   ]
  },
  {
   "cell_type": "code",
   "execution_count": 57,
   "id": "c56dd555",
   "metadata": {},
   "outputs": [
    {
     "data": {
      "text/plain": [
       "Text(0.5, 1.0, 'Relation Between Favorite Count and Rating')"
      ]
     },
     "execution_count": 57,
     "metadata": {},
     "output_type": "execute_result"
    },
    {
     "data": {
      "image/png": "[encoded data removed]",
      "text/plain": [
       "<Figure size 576x432 with 1 Axes>"
      ]
     },
     "metadata": {
      "needs_background": "light"
     },
     "output_type": "display_data"
    }
   ],
   "source": [
    "# plot breed against favorite count\n",
    "plt.figure(figsize=[8,6])\n",
    "sb.regplot(data=tweets_merged, x='rating_numerator', y='favorite_count')\n",
    "plt.ylabel('Favorite Count')\n",
    "plt.xlabel('Dog Rating')\n",
    "plt.title('Relation Between Favorite Count and Rating')"
   ]
  },
  {
   "cell_type": "code",
   "execution_count": 58,
   "id": "baa60697",
   "metadata": {},
   "outputs": [
    {
     "data": {
      "text/plain": [
       "golden_retriever      158\n",
       "Labrador_retriever    108\n",
       "Pembroke               95\n",
       "Chihuahua              91\n",
       "pug                    62\n",
       "toy_poodle             51\n",
       "chow                   48\n",
       "Samoyed                42\n",
       "Pomeranian             42\n",
       "malamute               33\n",
       "Name: breed, dtype: int64"
      ]
     },
     "execution_count": 58,
     "metadata": {},
     "output_type": "execute_result"
    }
   ],
   "source": [
    "tweets_merged.breed.value_counts()[:10]"
   ]
  },
  {
   "cell_type": "code",
   "execution_count": 59,
   "id": "925dcce4",
   "metadata": {},
   "outputs": [
    {
     "data": {
      "text/plain": [
       "Text(0.5, 1.0, 'Popular Dog Breeds')"
      ]
     },
     "execution_count": 59,
     "metadata": {},
     "output_type": "execute_result"
    },
    {
     "data": {
      "image/png": "[encoded data removed]",
      "text/plain": [
       "<Figure size 576x432 with 1 Axes>"
      ]
     },
     "metadata": {
      "needs_background": "light"
     },
     "output_type": "display_data"
    }
   ],
   "source": [
    "plt.figure(figsize=[8,6])\n",
    "tweets_merged.breed.value_counts()[:10].plot(kind='bar')\n",
    "plt.xlabel('Breed')\n",
    "plt.ylabel('Count')\n",
    "plt.title('Popular Dog Breeds')\n"
   ]
  },
  {
   "cell_type": "code",
   "execution_count": 60,
   "id": "15ed3fc7",
   "metadata": {},
   "outputs": [
    {
     "data": {
      "text/plain": [
       "Text(0.5, 1.0, 'Relationship Between Retweet and Favorited Count')"
      ]
     },
     "execution_count": 60,
     "metadata": {},
     "output_type": "execute_result"
    },
    {
     "data": {
      "image/png": "[encoded data removed]",
      "text/plain": [
       "<Figure size 576x432 with 1 Axes>"
      ]
     },
     "metadata": {
      "needs_background": "light"
     },
     "output_type": "display_data"
    }
   ],
   "source": [
    "# Check favorite count against retweet count\n",
    "plt.figure(figsize=[8,6])\n",
    "sb.regplot(data=tweets_merged, x='favorite_count',y='retweet_count')\n",
    "plt.xlabel('Favorite Count')\n",
    "plt.ylabel('Retweet Count')\n",
    "plt.title('Relationship Between Retweet and Favorited Count')"
   ]
  }
 ],
 "metadata": {
  "kernelspec": {
   "display_name": "Python 3 (ipykernel)",
   "language": "python",
   "name": "python3"
  },
  "language_info": {
   "codemirror_mode": {
    "name": "ipython",
    "version": 3
   },
   "file_extension": ".py",
   "mimetype": "text/x-python",
   "name": "python",
   "nbconvert_exporter": "python",
   "pygments_lexer": "ipython3",
   "version": "3.9.7"
  }
 },
 "nbformat": 4,
 "nbformat_minor": 5
}
